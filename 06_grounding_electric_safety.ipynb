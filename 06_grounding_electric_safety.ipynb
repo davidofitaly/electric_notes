{
  "nbformat": 4,
  "nbformat_minor": 0,
  "metadata": {
    "colab": {
      "provenance": [],
      "authorship_tag": "ABX9TyP/A2vAO+iOjkEzBZE7EXOI",
      "include_colab_link": true
    },
    "kernelspec": {
      "name": "python3",
      "display_name": "Python 3"
    },
    "language_info": {
      "name": "python"
    }
  },
  "cells": [
    {
      "cell_type": "markdown",
      "metadata": {
        "id": "view-in-github",
        "colab_type": "text"
      },
      "source": [
        "<a href=\"https://colab.research.google.com/github/davidofitaly/electric_notes/blob/main/06_grounding_electric_safety.ipynb\" target=\"_parent\"><img src=\"https://colab.research.google.com/assets/colab-badge.svg\" alt=\"Open In Colab\"/></a>"
      ]
    },
    {
      "cell_type": "markdown",
      "source": [
        "# Uziemienie czyli o elektryce bez potencjału\n",
        "\n",
        "### 1. Co to znaczy, że instalacja elektryczna jest uziemiona?\n",
        "\n",
        "Wyobraź sobie dom, w którym do każdego gniazdka i lampy oprócz przewodu fazowego i neutralnego jest doprowadzony **przewód uziemiający**.  \n",
        "Przewody te są zwykle połączone w rozdzielnicy i dalej jednym przewodem biegną do **metalowego elementu wbitego w ziemię** — tzw. uziomu.\n",
        "\n",
        "### 2. Jakie funkcje pełni uziemienie?\n",
        "\n",
        "**a) Funkcja ochronna**  \n",
        "- Zapewnia bezpieczeństwo w przypadku uszkodzenia urządzenia i przeniesienia napięcia na jego obudowę.  \n",
        "- Prąd „ucieka” do ziemi, zamiast przez użytkownika.  \n",
        "- Dzięki temu minimalizuje się ryzyko porażenia.  \n",
        "\n",
        "**b) Funkcja robocza**  \n",
        "- Umożliwia prawidłową pracę niektórych urządzeń (np. zasilaczy).  \n",
        "- Jednak w domowym użyciu ta rola uziemienia jest często poboczna.  \n",
        "\n",
        "### 3. Zagrożenia przy braku uziemienia\n",
        "\n",
        "- W starszych instalacjach może brakować uziemienia — to podnosi ryzyko pojawienia się napięcia na części obudowy urządzenia w razie awarii przewodu neutralnego.  \n",
        "- Uziemienie pozwala na bezpieczne rozproszenie prądu w ziemi, chroniąc użytkowników i sprzęt.\n",
        "\n",
        "### 4. Różne układy sieci z uziemieniem\n",
        "\n",
        "#### TN-C  \n",
        "- Neutralny przewód (N) i ochronny (PE) są wspólne (jako PEN).  \n",
        "- Stosowany w starszych instalacjach.  \n",
        "- Ryzyko: przerwanie zero może spowodować pojawienie się napięcia na obudowie urządzenia.  \n",
        "\n",
        "#### TN-C-S  \n",
        "- W rozdzielnicy przewód PEN dzielony jest na N i PE.  \n",
        "- Jeśli zerowanie zerwie się po tej rozdzielnicy, bezpieczeństwo pozostaje zachowane.  \n",
        "\n",
        "#### TN-S  \n",
        "- Przewody N i PE są od siebie całkowicie rozdzielone aż do transformatora (uziemionego w punkcie neutralnym).  \n",
        "- Zapewnia najwyższy poziom bezpieczeństwa.  \n",
        "\n",
        "#### TT  \n",
        "- Przewód ochronny (PE) uziemiony jest niezależnie od punktu neutralnego transformatora — zwykle w innym miejscu.  \n",
        "- Często spotykany układ w domach jednorodzinnych.  \n",
        "\n",
        "### 5. Jak sprawdzić, czy obudowa urządzenia jest bezpieczna?\n",
        "\n",
        "W przypadku podejrzenia braku uziemienia:\n",
        "\n",
        "- Można użyć **próbówki** lub dotknąć delikatnie palcem (wierzchnią częścią dłoni).  \n",
        "- Jeśli obudowa ma potencjał, można odczuć lekkie „kopnięcie”, ale krótkie zetknięcie jest zwykle mało niebezpieczne.  \n",
        "- To metoda doraźna, nie zastępuje profesjonalnej diagnostyki.\n",
        "\n",
        "### Podsumowanie\n",
        "\n",
        "Uziemienie to podstawowy element zabezpieczenia w instalacjach elektrycznych.  \n",
        "Chroni przed porażeniem i pomaga w bezpiecznym odprowadzeniu prądu w sytuacji awaryjnej.  \n",
        "Systemy takie jak **TN-S** zapewniają maksymalny poziom bezpieczeństwa, dlatego warto wiedzieć, jaki układ występuje w naszym domu.\n"
      ],
      "metadata": {
        "id": "EUXBjVCwaXQ8"
      }
    }
  ]
}