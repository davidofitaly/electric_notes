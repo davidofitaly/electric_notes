{
  "nbformat": 4,
  "nbformat_minor": 0,
  "metadata": {
    "colab": {
      "provenance": [],
      "authorship_tag": "ABX9TyNSujWe0gqMx13kZT2jiiq/",
      "include_colab_link": true
    },
    "kernelspec": {
      "name": "python3",
      "display_name": "Python 3"
    },
    "language_info": {
      "name": "python"
    }
  },
  "cells": [
    {
      "cell_type": "markdown",
      "metadata": {
        "id": "view-in-github",
        "colab_type": "text"
      },
      "source": [
        "<a href=\"https://colab.research.google.com/github/davidofitaly/electric_notes/blob/main/06_grounding_electric_safety.ipynb\" target=\"_parent\"><img src=\"https://colab.research.google.com/assets/colab-badge.svg\" alt=\"Open In Colab\"/></a>"
      ]
    },
    {
      "cell_type": "markdown",
      "source": [
        "# Uziemienie czyli o elektryce bez potencjału\n",
        "\n",
        "### 1. Co to znaczy, że instalacja elektryczna jest uziemiona?\n",
        "\n",
        "Wyobraź sobie dom, w którym do każdego gniazdka i lampy oprócz przewodu fazowego i neutralnego jest doprowadzony **przewód uziemiający**.  \n",
        "Przewody te są zwykle połączone w rozdzielnicy i dalej jednym przewodem biegną do **metalowego elementu wbitego w ziemię** — tzw. uziomu. :contentReference[oaicite:0]{index=0}\n",
        "\n",
        "### 2. Jakie funkcje pełni uziemienie?\n",
        "\n",
        "**a) Funkcja ochronna**  \n",
        "- Zapewnia bezpieczeństwo w przypadku uszkodzenia urządzenia i przeniesienia napięcia na jego obudowę.  \n",
        "- Prąd „ucieka” do ziemi, zamiast przez użytkownika.  \n",
        "- Dzięki temu minimalizuje się ryzyko porażenia. :contentReference[oaicite:1]{index=1}\n",
        "\n",
        "**b) Funkcja robocza**  \n",
        "- Umożliwia prawidłową pracę niektórych urządzeń (np. zasilaczy).  \n",
        "- Jednak w domowym użyciu ta rola uziemienia jest często poboczna. :contentReference[oaicite:2]{index=2}\n",
        "\n",
        "### 3. Zagrożenia przy braku uziemienia\n",
        "\n",
        "- W starszych instalacjach może brakować uziemienia — to podnosi ryzyko pojawienia się napięcia na części obudowy urządzenia w razie awarii przewodu neutralnego. :contentReference[oaicite:3]{index=3}  \n",
        "- Uziemienie pozwala na bezpieczne rozproszenie prądu w ziemi, chroniąc użytkowników i sprzęt.\n",
        "\n",
        "### 4. Różne układy sieci z uziemieniem\n",
        "\n",
        "#### TN-C  \n",
        "- Neutralny przewód (N) i ochronny (PE) są wspólne (jako PEN).  \n",
        "- Stosowany w starszych instalacjach.  \n",
        "- Ryzyko: przerwanie zero może spowodować pojawienie się napięcia na obudowie prywatnego urządzenia. :contentReference[oaicite:4]{index=4}\n",
        "\n",
        "#### TN-C-S  \n",
        "- W rozdzielnicy pewien punkt dzieli przewód PEN na N i PE.  \n",
        "- Jeśli zerowanie zerwie się po tej rozdzielnicy, bezpieczeństwo pozostaje zachowane. :contentReference[oaicite:5]{index=5}\n",
        "\n",
        "#### TN-S  \n",
        "- Przewody N i PE są od siebie całkowicie rozdzielone, aż do transformatora (uziemionego tamże).  \n",
        "- Uziemienie ma najwyższy poziom bezpieczeństwa. :contentReference[oaicite:6]{index=6}\n",
        "\n",
        "#### TT  \n",
        "- Przewód ochronny (PE) uziemiony jest niezależnie od punktu neutralnego transformatora — zwykle w innym miejscu.  \n",
        "- Częsty układ w domach jednorodzinnych. :contentReference[oaicite:7]{index=7}\n",
        "\n",
        "### 5. Jak sprawdzić, czy obudowa urządzenia jest bezpieczna?\n",
        "\n",
        "W przypadku podejrzenia braku uziemienia:\n",
        "\n",
        "- Użyj **probówki próbkowej** lub dotknij delikatnie palcem (wierzchnią częścią dłoni).  \n",
        "- Jeśli obudowa ma potencjał, odczujesz to, ale jeśli czynność trwa ułamek sekundy — jest mało niebezpieczna.  \n",
        "- Pamiętaj: to metoda doraźna, nie zastępuje profesjonalnej diagnostyki. :contentReference[oaicite:8]{index=8}\n",
        "\n",
        "### Podsumowanie\n",
        "\n",
        "Uziemienie to podstawowy element zabezpieczenia w instalacjach elektrycznych.  \n",
        "Chroni przed porażeniem i pomaga w bezpiecznym przesyle prądu w sytuacji awaryjnej.  \n",
        "Systemy takie jak TN-S zapewniają maksymalny poziom bezpieczeństwa, dlatego warto mieć świadomość, jaki układ występuje w Twoim domu.\n"
      ],
      "metadata": {
        "id": "EUXBjVCwaXQ8"
      }
    }
  ]
}