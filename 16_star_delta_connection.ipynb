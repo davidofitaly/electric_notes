{
  "nbformat": 4,
  "nbformat_minor": 0,
  "metadata": {
    "colab": {
      "provenance": [],
      "authorship_tag": "ABX9TyOFP33tyKmZ1HGw4AE+vLJT",
      "include_colab_link": true
    },
    "kernelspec": {
      "name": "python3",
      "display_name": "Python 3"
    },
    "language_info": {
      "name": "python"
    }
  },
  "cells": [
    {
      "cell_type": "markdown",
      "metadata": {
        "id": "view-in-github",
        "colab_type": "text"
      },
      "source": [
        "<a href=\"https://colab.research.google.com/github/davidofitaly/electric_notes/blob/main/16_star_delta_connection.ipynb\" target=\"_parent\"><img src=\"https://colab.research.google.com/assets/colab-badge.svg\" alt=\"Open In Colab\"/></a>"
      ]
    },
    {
      "cell_type": "markdown",
      "source": [
        "\n",
        "\n",
        "# Dlaczego układ trójfazowy nazywamy siłą – cz.2\n",
        "\n",
        "## Połączenie gwiazda-trójkąt\n",
        "\n",
        "Połączenie gwiazda-trójkąt (Y-Δ) stosuje się, aby zmniejszyć prąd rozruchowy silników elektrycznych. Silnik najpierw uruchamiany jest w układzie gwiazdy, co pozwala na mniejszy prąd, a po osiągnięciu odpowiedniej prędkości przełącza się go na układ trójkąta, aby wykorzystać pełną moc.\n",
        "\n",
        "### Schemat połączenia\n",
        "\n",
        "**Gwiazda (Y)**  \n",
        "- Napięcie na uzwojeniach: 230 V (dla sieci 400 V)  \n",
        "- Prąd rozruchowy: niższy  \n",
        "\n",
        "**Trójkąt (Δ)**  \n",
        "- Napięcie na uzwojeniach: 400 V  \n",
        "- Pełna moc silnika  \n",
        "\n",
        "### Zasada działania\n",
        "\n",
        "1. **Rozruch w układzie gwiazdy (Y):**  \n",
        "   - Silnik podłączony w gwiazdę.  \n",
        "   - Napięcie na uzwojeniach jest niższe, co ogranicza prąd rozruchowy.  \n",
        "\n",
        "2. **Przełączenie na układ trójkąta (Δ):**  \n",
        "   - Po osiągnięciu odpowiedniej prędkości.  \n",
        "   - Silnik pracuje przy pełnym napięciu i mocy.  \n",
        "\n",
        "### Zastosowanie\n",
        "\n",
        "- Rozruch silników w przemyśle.  \n",
        "- Urządzenia wymagające dużej mocy.  \n",
        "- Ograniczenie prądów rozruchowych w instalacjach przemysłowych.  \n",
        "\n",
        "### Uwagi\n",
        "\n",
        "- Przełączenie Y → Δ powinno nastąpić po osiągnięciu właściwej prędkości silnika.  \n",
        "- Należy stosować zabezpieczenia przed przeciążeniem i zwarciem.\n"
      ],
      "metadata": {
        "id": "kiD9RUCnRbas"
      }
    }
  ]
}