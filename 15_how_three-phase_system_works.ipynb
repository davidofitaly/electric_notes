{
  "nbformat": 4,
  "nbformat_minor": 0,
  "metadata": {
    "colab": {
      "provenance": [],
      "authorship_tag": "ABX9TyNQMPeJif460Rumu0tOSlH8",
      "include_colab_link": true
    },
    "kernelspec": {
      "name": "python3",
      "display_name": "Python 3"
    },
    "language_info": {
      "name": "python"
    }
  },
  "cells": [
    {
      "cell_type": "markdown",
      "metadata": {
        "id": "view-in-github",
        "colab_type": "text"
      },
      "source": [
        "<a href=\"https://colab.research.google.com/github/davidofitaly/electric_notes/blob/main/15_how_three-phase_system_works.ipynb\" target=\"_parent\"><img src=\"https://colab.research.google.com/assets/colab-badge.svg\" alt=\"Open In Colab\"/></a>"
      ]
    },
    {
      "cell_type": "markdown",
      "source": [
        "#Dlaczego układ trójfazowy nazywamy siłą? – cz.1\n",
        "\n",
        "## Układ trójfazowy\n",
        "\n",
        "Układ trójfazowy jest powszechnie stosowany w przesyle i rozdziale energii elektrycznej w sieciach przemysłowych i domowych. Składa się z trzech przewodów fazowych, które mają przesunięcie fazowe o 120°.\n",
        "\n",
        "- **Napięcie fazowe** ($(U_F$)) – napięcie między przewodem fazowym a neutralnym, typowo w sieci domowej 230 V.\n",
        "- **Napięcie międzyfazowe** ($(U_L$)) – napięcie między dwoma przewodami fazowymi, typowo 400 V.\n",
        "\n",
        "### Zależność napięć w układzie gwiazdy\n",
        "\n",
        "W układzie gwiazdy napięcie międzyfazowe obliczamy ze wzoru:\n",
        "\n",
        "$$\n",
        "U_L = \\sqrt{3} \\cdot U_F\n",
        "$$\n",
        "\n",
        "Przykład: jeśli napięcie fazowe $(U_F = 230\\,\\text{V}$), to napięcie międzyfazowe wynosi:\n",
        "\n",
        "$$\n",
        "U_L = \\sqrt{3} \\cdot 230 \\approx 400\\,\\text{V}\n",
        "$$\n",
        "\n",
        "### Zalety układu trójfazowego\n",
        "\n",
        "- Możliwość przesyłu większej mocy przy mniejszych stratach.\n",
        "- Lepsza efektywność silników elektrycznych trójfazowych.\n",
        "- Stabilniejsze napięcie w sieci.\n",
        "\n",
        "### Zastosowanie\n",
        "\n",
        "- Przemysł (maszyny, silniki trójfazowe)\n",
        "- Budownictwo (zasilanie dużych budynków)\n",
        "- Systemy przesyłowe energii elektrycznej\n"
      ],
      "metadata": {
        "id": "A2vWC2-sN7Ib"
      }
    }
  ]
}