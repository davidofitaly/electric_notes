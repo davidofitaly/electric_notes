{
  "nbformat": 4,
  "nbformat_minor": 0,
  "metadata": {
    "colab": {
      "provenance": [],
      "authorship_tag": "ABX9TyNE35I2INCe1tJ4W+onMbsD",
      "include_colab_link": true
    },
    "kernelspec": {
      "name": "python3",
      "display_name": "Python 3"
    },
    "language_info": {
      "name": "python"
    }
  },
  "cells": [
    {
      "cell_type": "markdown",
      "metadata": {
        "id": "view-in-github",
        "colab_type": "text"
      },
      "source": [
        "<a href=\"https://colab.research.google.com/github/davidofitaly/electric_notes/blob/main/15_how_three-phase_system_works.ipynb\" target=\"_parent\"><img src=\"https://colab.research.google.com/assets/colab-badge.svg\" alt=\"Open In Colab\"/></a>"
      ]
    },
    {
      "cell_type": "markdown",
      "source": [
        "\n",
        "# Dlaczego układ trójfazowy nazywamy siłą? – cz.1\n",
        "\n",
        "### 1. Co to jest układ trójfazowy?\n",
        "\n",
        "Układ trójfazowy to system elektryczny składający się z trzech źródeł napięcia o jednakowej wartości i częstotliwości, przesuniętych względem siebie w fazie o 120°.  \n",
        "Taki układ pozwala na uzyskanie wirującego pola magnetycznego, co umożliwia efektywne zasilanie silników trójfazowych oraz przesyłanie energii elektrycznej na dużą odległość.\n",
        "\n",
        "### 2. Rodzaje układów trójfazowych\n",
        "\n",
        "W zależności od sposobu połączenia źródła napięcia i odbiornika, wyróżnia się następujące układy trójfazowe:\n",
        "\n",
        "- **Gwiazda-Gwiazda (Y-Y)**: połączenie zarówno w źródle, jak i w odbiorniku w układzie gwiazdy.\n",
        "- **Gwiazda-Trójkąt (Y-Δ)**: połączenie w źródle w układzie gwiazdy, a w odbiorniku w układzie trójkąta.\n",
        "- **Trójkąt-Gwiazda (Δ-Y)**: połączenie w źródle w układzie trójkąta, a w odbiorniku w układzie gwiazdy.\n",
        "- **Trójkąt-Trójkąt (Δ-Δ)**: połączenie zarówno w źródle, jak i w odbiorniku w układzie trójkąta.\n",
        "\n",
        "W praktyce najczęściej stosuje się układy Y-Y i Y-Δ, ze względu na ich prostotę i efektywność.\n",
        "\n",
        "### 3. Zasada działania\n",
        "\n",
        "W układzie trójfazowym napięcia w poszczególnych fazach są przesunięte względem siebie o 120°, co zapewnia ciągłość dostarczania energii do odbiorników.  \n",
        "Dzięki temu silniki trójfazowe mogą pracować płynnie, bez wahań momentu obrotowego, co zwiększa ich efektywność i trwałość.\n",
        "\n",
        "### 4. Zastosowanie układu trójfazowego\n",
        "\n",
        "Układ trójfazowy jest powszechnie stosowany w energetyce, przemyśle oraz w urządzeniach codziennego użytku.  \n",
        "Umożliwia efektywne przesyłanie dużych mocy przy mniejszych stratach energii, co jest szczególnie istotne w przypadku długich linii przesyłowych.\n",
        "\n",
        "### 5. Podsumowanie\n",
        "\n",
        "Układ trójfazowy to kluczowy element współczesnych systemów elektroenergetycznych, zapewniający efektywne i niezawodne dostarczanie energii elektrycznej do odbiorników.  \n",
        "Dzięki swojej konstrukcji umożliwia pracę silników trójfazowych oraz przesyłanie energii na dużą odległość z minimalnymi stratami.\n"
      ],
      "metadata": {
        "id": "A2vWC2-sN7Ib"
      }
    }
  ]
}