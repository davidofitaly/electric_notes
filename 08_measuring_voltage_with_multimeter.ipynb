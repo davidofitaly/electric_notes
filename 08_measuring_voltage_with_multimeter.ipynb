{
  "nbformat": 4,
  "nbformat_minor": 0,
  "metadata": {
    "colab": {
      "provenance": [],
      "authorship_tag": "ABX9TyMjLy84Ed4/WQRmXU5xglsx",
      "include_colab_link": true
    },
    "kernelspec": {
      "name": "python3",
      "display_name": "Python 3"
    },
    "language_info": {
      "name": "python"
    }
  },
  "cells": [
    {
      "cell_type": "markdown",
      "metadata": {
        "id": "view-in-github",
        "colab_type": "text"
      },
      "source": [
        "<a href=\"https://colab.research.google.com/github/davidofitaly/electric_notes/blob/main/08_measuring_voltage_with_multimeter.ipynb\" target=\"_parent\"><img src=\"https://colab.research.google.com/assets/colab-badge.svg\" alt=\"Open In Colab\"/></a>"
      ]
    },
    {
      "cell_type": "markdown",
      "source": [
        "\n",
        "# Multimetr pierwsze starcie – pomiar napięcia\n",
        "### Co to jest pomiar napięcia?\n",
        "\n",
        "Pomiar napięcia pozwala określić różnicę potencjałów elektrycznych między dwoma punktami obwodu. Do tego celu używamy **multimetru** ustawionego w trybie woltomierza.\n",
        "\n",
        "### Jak mierzyć napięcie multimetrem?\n",
        "\n",
        "1. **Ustawienia multimetru**  \n",
        "   - Przełącz pokrętło na pomiar napięcia (symbol „V”).  \n",
        "   - Wybierz zakres pomiaru większy niż spodziewane napięcie (np. dla 230 V wybierz 600 V).  \n",
        "\n",
        "2. **Podłączenie przewodów**  \n",
        "   - Czarny przewód – do gniazda COM (masa).  \n",
        "   - Czerwony przewód – do gniazda oznaczonego „VΩmA” lub podobnego.  \n",
        "\n",
        "3. **Wykonanie pomiaru**  \n",
        "   - Przyłóż końcówki pomiarowe do punktów, między którymi chcesz zmierzyć napięcie.  \n",
        "   - Odczytaj wynik na wyświetlaczu.  \n",
        "\n",
        "### Ważne zasady bezpieczeństwa\n",
        "\n",
        "- Multimetr podczas pomiaru napięcia **nie włącza się w obwód szeregowo**, tylko równolegle.  \n",
        "- Zawsze ustaw odpowiedni zakres pomiarowy – zbyt niski może uszkodzić miernik.  \n",
        "- Podczas pomiaru napięcia sieciowego (230 V) zachowaj szczególną ostrożność.  \n",
        "- Nie dotykaj metalowych części sond podczas pomiaru.  \n",
        "\n",
        "### Rodzaje napięcia\n",
        "\n",
        "- **Napięcie stałe (DC)** – oznaczone na mierniku symbolem `V⎓`.  \n",
        "  Źródła: baterie, akumulatory, zasilacze DC.  \n",
        "\n",
        "- **Napięcie przemienne (AC)** – oznaczone symbolem `V~`.  \n",
        "  Źródła: gniazdko sieciowe 230 V, generatory AC.  \n",
        "\n",
        "### Podsumowanie\n",
        "\n",
        "- Multimetr umożliwia pomiar napięcia **DC i AC**.  \n",
        "- Zawsze wybieraj odpowiedni zakres pomiarowy.  \n",
        "- Pomiary wykonuj równolegle do elementu obwodu.  \n",
        "- Zachowaj szczególną ostrożność przy pomiarach napięcia sieciowego.\n"
      ],
      "metadata": {
        "id": "zo2vf5_ndOxH"
      }
    }
  ]
}