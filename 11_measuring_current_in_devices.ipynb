{
  "nbformat": 4,
  "nbformat_minor": 0,
  "metadata": {
    "colab": {
      "provenance": [],
      "authorship_tag": "ABX9TyMyAW95WUtzE07HHI+/GoIk",
      "include_colab_link": true
    },
    "kernelspec": {
      "name": "python3",
      "display_name": "Python 3"
    },
    "language_info": {
      "name": "python"
    }
  },
  "cells": [
    {
      "cell_type": "markdown",
      "metadata": {
        "id": "view-in-github",
        "colab_type": "text"
      },
      "source": [
        "<a href=\"https://colab.research.google.com/github/davidofitaly/electric_notes/blob/main/11_measuring_current_in_devices.ipynb\" target=\"_parent\"><img src=\"https://colab.research.google.com/assets/colab-badge.svg\" alt=\"Open In Colab\"/></a>"
      ]
    },
    {
      "cell_type": "markdown",
      "source": [
        "\n",
        "# Pomiary natężenia czyli ile prądu „ciągną” urządzenia\n",
        "\n",
        "### 1. Wprowadzenie\n",
        "\n",
        "W poprzednich artykułach omówiliśmy, jak zmierzyć natężenie prądu w obwodzie elektrycznym. W tym wpisie skupimy się na praktycznych przykładach pomiarów prądu pobieranego przez różne urządzenia, takich jak wentylatory biurkowe czy prostowniki. Pomiary te pozwolą lepiej zrozumieć, ile prądu \"ciągną\" poszczególne urządzenia w domowej instalacji elektrycznej.\n",
        "\n",
        "### 2. Pomiar prądu w wentylatorze biurkowym\n",
        "\n",
        "Wentylator biurkowy był wcześniej wykorzystywany podczas testów wyłączników nadprądowych. Dzięki temu wiadomo, czego się spodziewać — pomiaru prądu rzędu 150 mA. W tym przypadku użyto miernika Fluke 179, który umożliwia dokładne pomiary w zakresie od 0 do 10 A. Pomiar prądu w wentylatorze pozwala na ocenę jego efektywności energetycznej oraz porównanie z innymi urządzeniami.\n",
        "\n",
        "### 3. Pomiar prądu w prostowniku\n",
        "\n",
        "Prostownik to urządzenie, które przekształca prąd zmienny na stały. Pomiar prądu pobieranego przez prostownik pozwala na ocenę jego sprawności oraz obciążenia sieci elektrycznej. W tym przypadku również zastosowano miernik Fluke 179, który umożliwia precyzyjne pomiary w różnych zakresach.\n",
        "\n",
        "### 4. Wnioski\n",
        "\n",
        "Przeprowadzone pomiary prądu w różnych urządzeniach pozwalają na lepsze zrozumienie ich wpływu na domową instalację elektryczną. Dzięki tym danym można:\n",
        "\n",
        "- Ocenić efektywność energetyczną poszczególnych urządzeń,\n",
        "- Porównać pobór prądu różnych urządzeń,\n",
        "- Zidentyfikować urządzenia, które mogą powodować przeciążenie instalacji elektrycznej.\n",
        "\n",
        "Regularne monitorowanie poboru prądu przez urządzenia w domu pozwala na optymalizację zużycia energii oraz zwiększenie bezpieczeństwa instalacji elektrycznej.\n",
        "\n",
        "### 5. Podsumowanie\n",
        "\n",
        "Pomiar natężenia prądu w urządzeniach elektrycznych jest istotnym elementem zarządzania domową instalacją elektryczną. Dzięki odpowiednim narzędziom pomiarowym, takim jak multimetr Fluke 179, można precyzyjnie określić pobór prądu przez różne urządzenia, co pozwala na lepsze planowanie zużycia energii i zapewnienie bezpieczeństwa instalacji.\n"
      ],
      "metadata": {
        "id": "0Bqugbrrg7CW"
      }
    }
  ]
}