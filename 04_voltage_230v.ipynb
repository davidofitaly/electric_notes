{
  "nbformat": 4,
  "nbformat_minor": 0,
  "metadata": {
    "colab": {
      "provenance": [],
      "authorship_tag": "ABX9TyNojj6yYsaXOXDaLT3CeAkR",
      "include_colab_link": true
    },
    "kernelspec": {
      "name": "python3",
      "display_name": "Python 3"
    },
    "language_info": {
      "name": "python"
    }
  },
  "cells": [
    {
      "cell_type": "markdown",
      "metadata": {
        "id": "view-in-github",
        "colab_type": "text"
      },
      "source": [
        "<a href=\"https://colab.research.google.com/github/davidofitaly/electric_notes/blob/main/04_voltage_230v.ipynb\" target=\"_parent\"><img src=\"https://colab.research.google.com/assets/colab-badge.svg\" alt=\"Open In Colab\"/></a>"
      ]
    },
    {
      "cell_type": "markdown",
      "source": [
        "### Co drzemie w naszych gniazdkach, czyli napięcie 230V bez tajemnic\n",
        "\n",
        "#### 1. Charakterystyka prądu dostarczanego do domu\n",
        "\n",
        "- **Rodzaj prądu:** przemienny (AC)\n",
        "- **Napięcie:** 230V\n",
        "- **Częstotliwość:** 50Hz\n",
        "\n",
        "Prąd przemienny zmienia swoją wartość w czasie, tworząc przebieg sinusoidalny. Wartość napięcia w jednym momencie może wynosić np. 30V, a po chwili 210V, a nawet -300V. Zmiana ta zachodzi w cyklu trwającym 20 milisekund, co oznacza, że w ciągu sekundy przebieg powtarza się 50 razy (stąd częstotliwość 50 Hz). Maksymalna wartość napięcia to 325V, a minimalna -325V.\n",
        "\n",
        "#### 2. Co oznacza, że napięcie jest ujemne?\n",
        "\n",
        "Znak napięcia (dodatni lub ujemny) definiuje jedynie kierunek przepływu elektronów w przewodzie. W prądzie przemiennym elektrony zmieniają kierunek przepływu, raz płynąc w jedną stronę, raz w drugą. Dla urządzenia elektrycznego nie ma znaczenia, w którą stronę płyną elektrony — ważne jest, aby dostarczały one energię elektryczną.\n",
        "\n",
        "#### 3. Co to jest wartość skuteczna napięcia (prądu)?\n",
        "\n",
        "Wartość skuteczna napięcia (RMS — Root Mean Square) to taka wartość napięcia prądu stałego, która dostarcza do urządzenia taką samą moc, jak napięcie przemienne o zmiennej wartości. Dla napięcia 230V oznacza to, że prąd przemienny o wartości skutecznej 230V dostarcza do urządzenia taką samą moc, jak prąd stały o napięciu 230V.\n",
        "\n",
        "#### 4. Dlaczego napięcie wynosi 230V?\n",
        "\n",
        "Wartość napięcia 230V została ustalona jako kompromis między efektywnością przesyłu energii a bezpieczeństwem użytkowników. Wartość ta zapewnia odpowiednią moc dla urządzeń domowych, jednocześnie minimalizując straty energii podczas przesyłu oraz ryzyko porażenia prądem.\n",
        "\n",
        "#### 5. Jak to wygląda w praktyce?\n",
        "\n",
        "W praktyce, urządzenia elektryczne w naszych domach są projektowane do pracy z napięciem 230V. Ważne jest, aby korzystać z nich zgodnie z instrukcją obsługi i przestrzegać zasad bezpieczeństwa, takich jak unikanie kontaktu z urządzeniami elektrycznymi mokrymi rękami czy stosowanie odpowiednich zabezpieczeń.\n",
        "\n"
      ],
      "metadata": {
        "id": "N1b6eAzyInME"
      }
    }
  ]
}