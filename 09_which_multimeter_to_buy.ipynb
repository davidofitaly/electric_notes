{
  "nbformat": 4,
  "nbformat_minor": 0,
  "metadata": {
    "colab": {
      "provenance": [],
      "authorship_tag": "ABX9TyOek8TUKYxhazdmqqBp2Zll",
      "include_colab_link": true
    },
    "kernelspec": {
      "name": "python3",
      "display_name": "Python 3"
    },
    "language_info": {
      "name": "python"
    }
  },
  "cells": [
    {
      "cell_type": "markdown",
      "metadata": {
        "id": "view-in-github",
        "colab_type": "text"
      },
      "source": [
        "<a href=\"https://colab.research.google.com/github/davidofitaly/electric_notes/blob/main/09_which_multimeter_to_buy.ipynb\" target=\"_parent\"><img src=\"https://colab.research.google.com/assets/colab-badge.svg\" alt=\"Open In Colab\"/></a>"
      ]
    },
    {
      "cell_type": "markdown",
      "source": [
        "\n",
        "\n",
        "# Czym się sugerować przy wyborze multimetru?\n",
        "\n",
        "### 1. Co to jest multimetr?\n",
        "\n",
        "Multimetr to uniwersalne narzędzie do pomiaru różnych wielkości elektrycznych, w tym:\n",
        "\n",
        "- **Napięcie (V)** – mierzy różnicę potencjałów między dwoma punktami,\n",
        "- **Natężenie prądu (A)** – mierzy przepływ ładunku elektrycznego,\n",
        "- **Opór (Ω)** – mierzy opór dla przepływu prądu,\n",
        "- **Dodatkowe funkcje** – w zależności od modelu mogą obejmować pojemność, częstotliwość, temperaturę oraz test ciągłości obwodu.\n",
        "\n",
        "### 2. Rodzaje multimetrów\n",
        "\n",
        "- **Multimetry analogowe** – wykorzystują ruchomą wskazówkę do pokazywania wyniku, mniej popularne, ale przydatne do obserwacji zmian wartości w czasie.\n",
        "- **Multimetry cyfrowe (DMM)** – wyświetlają wynik w postaci cyfrowej, są dokładniejsze i łatwiejsze do odczytania, najczęściej stosowane.\n",
        "\n",
        "### 3. Najważniejsze cechy przy wyborze\n",
        "\n",
        "Przy wyborze multimetru warto zwrócić uwagę na:\n",
        "\n",
        "- **Zakres pomiarowy** – musi obejmować zakresy napięcia, prądu i oporu, które będziesz mierzyć,\n",
        "- **Dokładność pomiaru** – im wyższa dokładność, tym bardziej wiarygodne wyniki,\n",
        "- **Certyfikaty bezpieczeństwa** – np. CAT III lub CAT IV, gwarantujące odporność na przepięcia i odpowiednią ochronę użytkownika,\n",
        "- **Dodatkowe funkcje** – przydatne mogą być: podtrzymanie wyniku (data hold), podświetlany wyświetlacz, auto-ranging.\n",
        "\n",
        "### 4. Polecane multimetry\n",
        "\n",
        "#### Dla początkujących i zastosowań domowych:\n",
        "\n",
        "- **UNI-T UT33C+** – mały i tani multimetr cyfrowy, mierzy napięcie, prąd, opór i posiada sondę temperatury. Idealny do domu i samochodu.\n",
        "- **UNI-T UT890C** – szerszy zakres pomiarów, w tym pojemność i częstotliwość, wyższa rozdzielczość wyświetlacza, nadaje się do bardziej zaawansowanych pomiarów.\n",
        "\n",
        "#### Dla profesjonalistów:\n",
        "\n",
        "- **Fluke 117** – trwały i dokładny, przeznaczony do zastosowań przemysłowych i komercyjnych, z funkcją wykrywania napięcia bezdotykowo i podświetlanym wyświetlaczem.\n",
        "- **Brymen BM235** – wysoka dokładność i certyfikaty bezpieczeństwa, dobry do diagnostyki i konserwacji instalacji elektrycznych.\n",
        "\n",
        "### 5. Podsumowanie\n",
        "\n",
        "Wybór odpowiedniego multimetru zależy od Twoich potrzeb i budżetu. Do podstawowych zastosowań wystarczy UNI-T UT33C+, a do bardziej zaawansowanych – UNI-T UT890C, Fluke 117 lub Brymen BM235, które oferują dodatkowe funkcje i wyższą dokładność.\n",
        "\n",
        "Zawsze należy pamiętać o bezpieczeństwie i upewnić się, że wybrany multimetr spełnia odpowiednie normy dla planowanego zastosowania.\n"
      ],
      "metadata": {
        "id": "nYaFi7E3ehvT"
      }
    }
  ]
}