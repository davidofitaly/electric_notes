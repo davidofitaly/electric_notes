{
  "nbformat": 4,
  "nbformat_minor": 0,
  "metadata": {
    "colab": {
      "provenance": [],
      "authorship_tag": "ABX9TyM2Uz4ruOYxm/kW7CD6XMX4",
      "include_colab_link": true
    },
    "kernelspec": {
      "name": "python3",
      "display_name": "Python 3"
    },
    "language_info": {
      "name": "python"
    }
  },
  "cells": [
    {
      "cell_type": "markdown",
      "metadata": {
        "id": "view-in-github",
        "colab_type": "text"
      },
      "source": [
        "<a href=\"https://colab.research.google.com/github/davidofitaly/electric_notes/blob/main/07_step_voltage_risk.ipynb\" target=\"_parent\"><img src=\"https://colab.research.google.com/assets/colab-badge.svg\" alt=\"Open In Colab\"/></a>"
      ]
    },
    {
      "cell_type": "markdown",
      "source": [
        "\n",
        "# Krok po kroku o… napięciu krokowym\n",
        "\n",
        "\n",
        "### 1. Co to jest napięcie krokowe?\n",
        "\n",
        "Napięcie krokowe to **różnica potencjałów elektrycznych** między dwoma punktami na ziemi oddalonymi od siebie o długość kroku (ok. 0,5–1,0 m).  \n",
        "To napięcie, które może przepływać przez ciało człowieka w postaci prądu elektrycznego, jeśli stopy znajdują się w miejscach o różnym potencjale.\n",
        "\n",
        "### 2. Skąd się bierze?\n",
        "\n",
        "Najczęstsze przyczyny powstania napięcia krokowego to:\n",
        "\n",
        "- **Uderzenie pioruna** w ziemię – w miejscu styku potencjał gruntu może wynieść kilkadziesiąt kilowoltów,\n",
        "- **Uszkodzenie linii wysokiego/średniego napięcia**, które doprowadza prąd do ziemi.\n",
        "\n",
        "Grunt, przez który płynie prąd, posiada oporność, przez co napięcie stopniowo maleje wraz z odległością od źródła.\n",
        "\n",
        "### 3. Jak to działa?\n",
        "\n",
        "Przykład:  \n",
        "Jeśli w jednym miejscu ziemi potencjał wynosi **1500 V**, a pół metra dalej **1300 V**, to różnica potencjałów wynosi **200 V**.  \n",
        "Osoba stojąca w tym obszarze obiema stopami może zostać porażona takim napięciem.\n",
        "\n",
        "### 4. Jak się zabezpieczyć?\n",
        "\n",
        "Aby uniknąć porażenia napięciem krokowym należy:\n",
        "\n",
        "- **Złączyć stopy razem**, co zmniejsza różnicę potencjałów między nimi.  \n",
        "- **Oddalać się przeskakując na jednej nodze** lub stawiając bardzo drobne kroki ustawione w jednej linii.  \n",
        "- W obszarach zagrożonych warto stosować:\n",
        "  - **izolacyjne maty gumowe**,  \n",
        "  - **uziemione stalowe kraty** na podłożu,  \n",
        "  - **tablice ostrzegawcze**.\n",
        "\n",
        "### 5. Dlaczego może być niebezpieczne?\n",
        "\n",
        "- Nawet różnica kilkudziesięciu lub kilkuset woltów może być groźna dla życia.  \n",
        "- Napięcie krokowe jest szczególnie niebezpieczne przy wysokich napięciach awaryjnych (np. przy piorunach, uszkodzeniach sieci wysokiego napięcia).  \n",
        "- Przy napięciu 230 V jego wpływ jest zazwyczaj pomijalny.\n",
        "\n",
        "### 6. Podsumowanie\n",
        "\n",
        "| Element | Znaczenie |\n",
        "|--------|-----------|\n",
        "| **Napięcie krokowe** | Różnica potencjałów na ziemi w odległości długości kroku |\n",
        "| **Źródła zagrożenia** | Pioruny, uszkodzone linie energetyczne |\n",
        "| **Metody ochrony** | Złączenie stóp, drobne kroki, izolacja podłoża |\n",
        "| **Ryzyko** | Może być groźne – szczególnie przy sieciach wysokiego napięcia |\n",
        "\n",
        "Napięcie krokowe to realne zagrożenie, szczególnie przy awariach sieci wysokiego napięcia. Wiedza o tym, jak się zachować i jakie środki ochronne stosować, może uratować życie.\n",
        "\n"
      ],
      "metadata": {
        "id": "kUuCFdBsbzO1"
      }
    }
  ]
}