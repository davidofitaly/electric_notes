{
  "nbformat": 4,
  "nbformat_minor": 0,
  "metadata": {
    "colab": {
      "provenance": [],
      "authorship_tag": "ABX9TyN8ecdt/Rx57cBurCK4YJ83",
      "include_colab_link": true
    },
    "kernelspec": {
      "name": "python3",
      "display_name": "Python 3"
    },
    "language_info": {
      "name": "python"
    }
  },
  "cells": [
    {
      "cell_type": "markdown",
      "metadata": {
        "id": "view-in-github",
        "colab_type": "text"
      },
      "source": [
        "<a href=\"https://colab.research.google.com/github/davidofitaly/electric_notes/blob/main/05_colored_wires_and_their_meaning.ipynb\" target=\"_parent\"><img src=\"https://colab.research.google.com/assets/colab-badge.svg\" alt=\"Open In Colab\"/></a>"
      ]
    },
    {
      "cell_type": "markdown",
      "source": [
        "# Kolorowe przewody i ich znaczenie\n",
        "\n",
        "### 1. Przewód fazowy (L)\n",
        "\n",
        "- **Kolor:** brązowy, czarny, szary, czerwony, biały (z wyjątkiem niebieskiego i żółto-zielonego)\n",
        "- **Funkcja:** przewodzi prąd zasilający urządzenie elektryczne\n",
        "- **Zalecenia:** unikać używania kolorów niebieskiego i żółto-zielonego dla przewodów fazowych\n",
        "\n",
        "### 2. Przewód neutralny (N)\n",
        "\n",
        "- **Kolor:** niebieski\n",
        "- **Funkcja:** zamyka obwód elektryczny, odprowadzając prąd z powrotem do źródła\n",
        "- **Bezpieczeństwo:** w teorii napięcie względem ziemi wynosi 0V; jednak zawsze należy zachować ostrożność\n",
        "\n",
        "### 3. Przewód ochronny (PE)\n",
        "\n",
        "- **Kolor:** żółto-zielony\n",
        "- **Funkcja:** zapewnia ochronę przed porażeniem prądem elektrycznym poprzez odprowadzanie napięcia do ziemi w razie uszkodzenia urządzenia\n",
        "- **Połączenie:** w nowoczesnych instalacjach połączony z ziemią; w starszych może być połączony z przewodem neutralnym w rozdzielnicy\n",
        "\n",
        "### 4. Uwaga na starsze instalacje\n",
        "\n",
        "- W starszym budownictwie oraz w instalacjach wykonywanych przez „kreatywnych” elektryków, przewody danych kolorów mogą mieć inne znaczenie i należy mieć to zawsze na uwadze\n",
        "\n",
        "### 5. Podsumowanie\n",
        "\n",
        "- **Brak standardów:** brak jednolitych standardów kolorów przewodów w instalacjach elektrycznych\n",
        "- **Bezpieczeństwo:** zawsze zachowuj ostrożność i upewnij się, że przewody są prawidłowo oznaczone i podłączone\n",
        "- **Edukacja:** warto poszerzać wiedzę na temat oznaczeń przewodów, aby zapewnić bezpieczeństwo podczas pracy z instalacjami elektrycznymi\n"
      ],
      "metadata": {
        "id": "b2YlxZx8KfN4"
      }
    }
  ]
}