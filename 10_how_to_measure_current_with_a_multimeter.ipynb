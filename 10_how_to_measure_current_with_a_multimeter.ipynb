{
  "nbformat": 4,
  "nbformat_minor": 0,
  "metadata": {
    "colab": {
      "provenance": [],
      "authorship_tag": "ABX9TyN3AhdtPvjDGOtZz3q87XQJ",
      "include_colab_link": true
    },
    "kernelspec": {
      "name": "python3",
      "display_name": "Python 3"
    },
    "language_info": {
      "name": "python"
    }
  },
  "cells": [
    {
      "cell_type": "markdown",
      "metadata": {
        "id": "view-in-github",
        "colab_type": "text"
      },
      "source": [
        "<a href=\"https://colab.research.google.com/github/davidofitaly/electric_notes/blob/main/10_how_to_measure_current_with_a_multimeter.ipynb\" target=\"_parent\"><img src=\"https://colab.research.google.com/assets/colab-badge.svg\" alt=\"Open In Colab\"/></a>"
      ]
    },
    {
      "cell_type": "markdown",
      "source": [
        "\n",
        "\n",
        "# Jak zmierzyć natężenie prądu?\n",
        "\n",
        "### 1. Co to jest pomiar natężenia prądu?\n",
        "\n",
        "Pomiar natężenia prądu polega na określeniu ilości elektronów przepływających przez przewodnik w jednostce czasu. Jednostką natężenia prądu jest **amper (A)**. Pomiar ten wykonuje się za pomocą **multimetru**, który w tym przypadku pełni rolę **amperomierza**.\n",
        "\n",
        "### 2. Jak wykonać pomiar natężenia prądu?\n",
        "\n",
        "#### a) Przygotowanie multimetru\n",
        "\n",
        "1. **Ustawienie przełącznika**:  \n",
        "   - **A** – dla prądu stałego (DC),  \n",
        "   - **A~** – dla prądu zmiennego (AC).\n",
        "\n",
        "2. **Podłączenie przewodów**:  \n",
        "   - **Czarny przewód** – do gniazda **COM** (wspólne),\n",
        "   - **Czerwony przewód** – do gniazda oznaczonego **mA** (dla małych prądów) lub **10A** (dla większych prądów).\n",
        "\n",
        "#### b) Wykonanie pomiaru\n",
        "\n",
        "1. **Wyłączenie zasilania** obwodu, w którym będziesz mierzyć prąd.\n",
        "2. **Podłączenie multimetru**:  \n",
        "   - **Szeregowo** włącz multimetr w obwód, tak aby prąd przepływał przez miernik.\n",
        "3. **Włączenie zasilania** obwodu.\n",
        "4. **Odczyt wartości** natężenia prądu na wyświetlaczu multimetru.\n",
        "\n",
        "#### c) Bezpieczeństwo\n",
        "\n",
        "- Upewnij się, że zakres pomiarowy jest odpowiedni do przewidywanego natężenia prądu.\n",
        "- **Nigdy nie** podłączaj multimetru do obwodu zasilanego, gdy jest ustawiony na pomiar prądu, ponieważ może to uszkodzić miernik.\n",
        "\n",
        "### 3. Typowe błędy i jak ich unikać\n",
        "\n",
        "- **Niewłaściwe ustawienie zakresu**: Upewnij się, że wybrałeś odpowiedni zakres pomiarowy dla spodziewanego natężenia prądu.\n",
        "- **Błędne podłączenie przewodów**: Sprawdź, czy przewody są podłączone do odpowiednich gniazd.\n",
        "- **Pomiar w niewłaściwym miejscu**: Pamiętaj, że multimetr musi być włączony szeregowo w obwód, aby prawidłowo zmierzyć prąd.\n",
        "\n",
        "### 4. Podsumowanie\n",
        "\n",
        "Pomiar natężenia prądu multimetrem jest prosty, ale wymaga zachowania odpowiednich środków ostrożności. Pamiętaj o:\n",
        "\n",
        "- Odpowiednim ustawieniu multimetru,\n",
        "- Prawidłowym podłączeniu przewodów,\n",
        "- Bezpiecznym włączeniu miernika w obwód szeregowo.\n",
        "\n",
        "Zachowanie tych zasad zapewni dokładne i bezpieczne pomiary.\n"
      ],
      "metadata": {
        "id": "RQNNK32oft8v"
      }
    }
  ]
}