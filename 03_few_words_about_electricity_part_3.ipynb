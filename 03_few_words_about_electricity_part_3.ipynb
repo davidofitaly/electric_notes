{
  "nbformat": 4,
  "nbformat_minor": 0,
  "metadata": {
    "colab": {
      "provenance": [],
      "authorship_tag": "ABX9TyOiIyXcJo/0eJ47DKBx0s2c",
      "include_colab_link": true
    },
    "kernelspec": {
      "name": "python3",
      "display_name": "Python 3"
    },
    "language_info": {
      "name": "python"
    }
  },
  "cells": [
    {
      "cell_type": "markdown",
      "metadata": {
        "id": "view-in-github",
        "colab_type": "text"
      },
      "source": [
        "<a href=\"https://colab.research.google.com/github/davidofitaly/electric_notes/blob/main/03_few_words_about_electricity_part_3.ipynb\" target=\"_parent\"><img src=\"https://colab.research.google.com/assets/colab-badge.svg\" alt=\"Open In Colab\"/></a>"
      ]
    },
    {
      "cell_type": "markdown",
      "source": [
        "# Słów kilka o… elektryczności cz.3\n",
        "\n",
        "## ⚡ Co to znaczy, że prąd „kopie”?\n",
        "\n",
        "Porażenie prądem elektrycznym następuje, gdy przez ciało człowieka przepływa prąd elektryczny. Aby to się stało, muszą być spełnione trzy warunki:\n",
        "\n",
        "1. **Źródło napięcia elektrycznego** – np. bateria, zasilacz, transformator, sieć energetyczna.\n",
        "2. **Element przewodzący prąd** – np. przewód elektryczny, ciało człowieka.\n",
        "3. **Zamknięty obwód elektryczny** – prąd płynie, gdy istnieje różnica potencjałów (napięć) między dwoma punktami.\n",
        "\n",
        "Przykład: ptak siedzący na jednym przewodzie wysokiego napięcia nie odczuwa porażenia, ponieważ nie ma zamkniętego obwodu. Jeśli jednak dotknie dwóch przewodów, prąd popłynie przez jego ciało i dojdzie do porażenia.\n",
        "\n",
        "## 🧍‍♂️ Jakie napięcie może być niebezpieczne?\n",
        "\n",
        "- **Napięcie 12 V** – bezpieczne, nie powoduje porażenia.\n",
        "- **Napięcie 230 V** – standardowe napięcie w gniazdkach domowych; może być niebezpieczne, zwłaszcza w przypadku wilgotnych rąk lub uszkodzonej skóry.\n",
        "- **Napięcie 400 V** – występuje w instalacjach trójfazowych; bardzo niebezpieczne, może prowadzić do śmierci.\n",
        "\n",
        "## ⚠️ Jak uniknąć porażenia prądem?\n",
        "\n",
        "1. **Używaj urządzeń elektrycznych zgodnie z instrukcją obsługi.**\n",
        "2. **Nie dotykaj urządzeń elektrycznych mokrymi rękami.**\n",
        "3. **Regularnie sprawdzaj stan techniczny przewodów i urządzeń.**\n",
        "4. **Stosuj urządzenia zabezpieczające, takie jak wyłączniki różnicowoprądowe (RCD).**\n",
        "5. **W przypadku awarii lub uszkodzenia instalacji elektrycznej, niezwłocznie skontaktuj się z elektrykiem.**\n",
        "\n",
        "## 🔌 Podsumowanie\n",
        "\n",
        "Porażenie prądem elektrycznym jest wynikiem przepływu prądu przez ciało człowieka. Aby temu zapobiec, należy stosować odpowiednie środki ostrożności i zabezpieczenia w instalacjach elektrycznych.\n",
        "\n"
      ],
      "metadata": {
        "id": "JFD8tnzdAWG7"
      }
    },
    {
      "cell_type": "code",
      "execution_count": null,
      "metadata": {
        "id": "RESMsr6ZAVqz"
      },
      "outputs": [],
      "source": []
    }
  ]
}