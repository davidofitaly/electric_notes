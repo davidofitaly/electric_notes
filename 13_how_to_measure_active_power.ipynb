{
  "nbformat": 4,
  "nbformat_minor": 0,
  "metadata": {
    "colab": {
      "provenance": [],
      "authorship_tag": "ABX9TyPoafA1f7eUlwrN0m62iOF7",
      "include_colab_link": true
    },
    "kernelspec": {
      "name": "python3",
      "display_name": "Python 3"
    },
    "language_info": {
      "name": "python"
    }
  },
  "cells": [
    {
      "cell_type": "markdown",
      "metadata": {
        "id": "view-in-github",
        "colab_type": "text"
      },
      "source": [
        "<a href=\"https://colab.research.google.com/github/davidofitaly/electric_notes/blob/main/13_how_to_measure_active_power.ipynb\" target=\"_parent\"><img src=\"https://colab.research.google.com/assets/colab-badge.svg\" alt=\"Open In Colab\"/></a>"
      ]
    },
    {
      "cell_type": "markdown",
      "source": [
        "\n",
        "\n",
        "# Niech moc (czynna) będzie z tobą! – cz.1\n",
        "### 1. Co to jest moc czynna?\n",
        "\n",
        "Moc czynna (P) to część energii elektrycznej, która jest rzeczywiście wykorzystywana do wykonywania pracy – np. napędzania silników, podgrzewania elementów grzewczych czy oświetlania pomieszczeń.  \n",
        "Jest mierzona w watach (W) i określa efektywne wykorzystanie energii elektrycznej.\n",
        "\n",
        "### 2. Jak obliczyć moc czynną?\n",
        "\n",
        "W obwodach prądu stałego:\n",
        "$$\n",
        "P = U \\times I\n",
        "$$\n",
        "gdzie:  \n",
        "- P – moc czynna w watach (W)  \n",
        "- U – napięcie w woltach (V)  \n",
        "- I – natężenie prądu w amperach (A)  \n",
        "\n",
        "W obwodach prądu przemiennego, uwzględniając przesunięcie fazowe między napięciem a prądem:\n",
        "$$\n",
        "P = U \\times I \\times \\cos(\\varphi)\n",
        "$$`\n",
        "gdzie:  \n",
        "- cos(φ) – współczynnik mocy (efektywność wykorzystania energii, od 0 do 1)  \n",
        "\n",
        "### 3. Przykład obliczenia mocy czynnej\n",
        "\n",
        "Urządzenie zasilane napięciem 230 V, pobierające prąd 2 A, przy współczynniku mocy 0,8:  \n",
        "$$\n",
        "P = 230 \\times 2 \\times 0,8 = 368\\,\\text{W}\n",
        "$$  \n",
        "Oznacza to, że urządzenie wykorzystuje 368 W do wykonywania pracy, a reszta energii jest tracona np. w postaci ciepła.\n",
        "\n",
        "### 4. Pomiar mocy czynnej\n",
        "\n",
        "Pomiar mocy czynnej wykonuje się za pomocą watomierzy.  \n",
        "W obwodach prądu przemiennego z przesunięciem fazowym między napięciem a prądem stosuje się odpowiednie techniki, np. układ Arona w układach trójprzewodowych.\n",
        "\n",
        "### 5. Znaczenie mocy czynnej\n",
        "\n",
        "Zrozumienie mocy czynnej pozwala na:  \n",
        "- optymalizację pracy urządzeń elektrycznych,  \n",
        "- redukcję kosztów energii,  \n",
        "- zwiększenie efektywności energetycznej instalacji.\n",
        "\n",
        "Świadomość wartości mocy czynnej umożliwia także identyfikację urządzeń o niskiej efektywności i ich wymianę na bardziej energooszczędne modele.\n",
        "\n",
        "### 6. Podsumowanie\n",
        "\n",
        "Moc czynna jest podstawowym parametrem określającym efektywność wykorzystania energii elektrycznej.  \n",
        "Jej obliczanie i pomiar są istotne dla zapewnienia optymalnej pracy instalacji oraz zarządzania zużyciem energii w domach i przemyśle.\n"
      ],
      "metadata": {
        "id": "rJrE6Ozjvne2"
      }
    }
  ]
}