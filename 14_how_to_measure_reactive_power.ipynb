{
  "nbformat": 4,
  "nbformat_minor": 0,
  "metadata": {
    "colab": {
      "provenance": [],
      "authorship_tag": "ABX9TyPI1nxn6C6RM9uAt1n6YfQg",
      "include_colab_link": true
    },
    "kernelspec": {
      "name": "python3",
      "display_name": "Python 3"
    },
    "language_info": {
      "name": "python"
    }
  },
  "cells": [
    {
      "cell_type": "markdown",
      "metadata": {
        "id": "view-in-github",
        "colab_type": "text"
      },
      "source": [
        "<a href=\"https://colab.research.google.com/github/davidofitaly/electric_notes/blob/main/14_how_to_measure_reactive_power.ipynb\" target=\"_parent\"><img src=\"https://colab.research.google.com/assets/colab-badge.svg\" alt=\"Open In Colab\"/></a>"
      ]
    },
    {
      "cell_type": "markdown",
      "source": [
        "\n",
        "\n",
        "# Niech moc (bierna) będzie z tobą! – cz.2\n",
        "\n",
        "### 1. Co to jest moc bierna?\n",
        "\n",
        "Moc bierna (oznaczana symbolem **Q**) to energia elektryczna, która nie jest przekształcana na użyteczną pracę, lecz krąży między źródłem a odbiornikiem w obwodach prądu przemiennego.  \n",
        "Jest niezbędna do wytwarzania pól magnetycznych w urządzeniach takich jak silniki czy transformatory, a także do tworzenia pól elektrycznych w kondensatorach.  \n",
        "Choć nie wykonuje pracy, umożliwia prawidłowe funkcjonowanie tych urządzeń.\n",
        "\n",
        "### 2. Jak obliczyć moc bierną?\n",
        "\n",
        "W obwodach prądu przemiennego moc bierną oblicza się ze wzoru:\n",
        "\n",
        "$$\n",
        "Q = U \\times I \\times \\sin(\\varphi)\n",
        "$$\n",
        "\n",
        "gdzie:  \n",
        "- **Q** – moc bierna w warach (Var)  \n",
        "- **U** – wartość skuteczna napięcia w woltach (V)  \n",
        "- **I** – wartość skuteczna natężenia prądu w amperach (A)  \n",
        "- **φ** – kąt przesunięcia fazowego między napięciem a prądem  \n",
        "\n",
        "Moc bierna może być dodatnia lub ujemna, w zależności od charakterystyki obciążenia:  \n",
        "- **Moc bierna indukcyjna** – występuje w urządzeniach takich jak silniki czy transformatory, gdzie prąd jest opóźniony względem napięcia  \n",
        "- **Moc bierna pojemnościowa** – występuje w urządzeniach takich jak kondensatory, gdzie prąd wyprzedza napięcie\n",
        "\n",
        "### 3. Przykład obliczenia mocy biernej\n",
        "\n",
        "Załóżmy, że mamy obwód z napięciem 230 V, prądem 10 A i kątem przesunięcia fazowego 30°:\n",
        "\n",
        "$$\n",
        "Q = 230 \\times 10 \\times \\sin(30°) = 230 \\times 10 \\times 0,5 = 1150 \\text{ Var}\n",
        "$$\n",
        "\n",
        "Oznacza to, że w obwodzie krąży 1150 warów energii biernej.\n",
        "\n",
        "### 4. Znaczenie mocy biernej\n",
        "\n",
        "Moc bierna jest niezbędna do prawidłowego działania urządzeń elektrycznych, jednak jej nadmiar może prowadzić do:  \n",
        "- zwiększenia strat energii w sieci przesyłowej  \n",
        "- obciążenia transformatorów i linii przesyłowych  \n",
        "- wyższych opłat za energię elektryczną  \n",
        "- obniżenia efektywności energetycznej instalacji\n",
        "\n",
        "Dlatego ważne jest monitorowanie i kontrolowanie poziomu mocy biernej w instalacjach elektrycznych.\n",
        "\n",
        "### 5. Kompensacja mocy biernej\n",
        "\n",
        "Aby zredukować negatywne skutki nadmiaru mocy biernej, stosuje się kompensację, która polega na:  \n",
        "- instalowaniu baterii kondensatorów  \n",
        "- używaniu statycznych kompensatorów mocy (SVC)  \n",
        "- wykorzystywaniu aktywnych filtrów mocy\n",
        "\n",
        "Kompensacja mocy biernej pozwala na poprawę współczynnika mocy (cos(φ)), co prowadzi do zmniejszenia strat energii i obniżenia kosztów eksploatacji instalacji.\n",
        "\n",
        "### 6. Podsumowanie\n",
        "\n",
        "Moc bierna jest kluczowym elementem w obwodach prądu przemiennego, umożliwiającym prawidłowe działanie wielu urządzeń elektrycznych.  \n",
        "Choć nie wykonuje pracy, jej obecność jest niezbędna.  \n",
        "Jednak jej nadmiar może prowadzić do strat energii i wyższych kosztów.  \n",
        "Dlatego ważne jest monitorowanie i kompensowanie mocy biernej w instalacjach elektrycznych.\n"
      ],
      "metadata": {
        "id": "vmC3TeMf3AkJ"
      }
    }
  ]
}